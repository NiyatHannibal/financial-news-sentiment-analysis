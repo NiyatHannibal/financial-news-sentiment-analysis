{
 "cells": [
  {
   "cell_type": "code",
   "execution_count": 3,
   "id": "1c42c3ef-f773-41c1-a9bc-af5b4f241017",
   "metadata": {},
   "outputs": [
    {
     "name": "stdout",
     "output_type": "stream",
     "text": [
      "   Unnamed: 0                                           headline  \\\n",
      "0           0            Stocks That Hit 52-Week Highs On Friday   \n",
      "1           1         Stocks That Hit 52-Week Highs On Wednesday   \n",
      "2           2                      71 Biggest Movers From Friday   \n",
      "3           3       46 Stocks Moving In Friday's Mid-Day Session   \n",
      "4           4  B of A Securities Maintains Neutral on Agilent...   \n",
      "\n",
      "                                                 url          publisher  \\\n",
      "0  https://www.benzinga.com/news/20/06/16190091/s...  Benzinga Insights   \n",
      "1  https://www.benzinga.com/news/20/06/16170189/s...  Benzinga Insights   \n",
      "2  https://www.benzinga.com/news/20/05/16103463/7...         Lisa Levin   \n",
      "3  https://www.benzinga.com/news/20/05/16095921/4...         Lisa Levin   \n",
      "4  https://www.benzinga.com/news/20/05/16095304/b...         Vick Meyer   \n",
      "\n",
      "                        date stock  \n",
      "0  2020-06-05 10:30:54-04:00     A  \n",
      "1  2020-06-03 10:45:20-04:00     A  \n",
      "2  2020-05-26 04:30:07-04:00     A  \n",
      "3  2020-05-22 12:45:06-04:00     A  \n",
      "4  2020-05-22 11:38:59-04:00     A  \n"
     ]
    }
   ],
   "source": [
    "import pandas as pd\n",
    "\n",
    "data = pd.read_csv('../data/raw_analyst_ratings.csv')\n",
    "\n",
    "print(data.head())\n"
   ]
  },
  {
   "cell_type": "code",
   "execution_count": 4,
   "id": "caafca4e-15dc-4f30-b400-034aa1a0c018",
   "metadata": {},
   "outputs": [
    {
     "name": "stdout",
     "output_type": "stream",
     "text": [
      "Index(['Unnamed: 0', 'headline', 'url', 'publisher', 'date', 'stock'], dtype='object')\n"
     ]
    }
   ],
   "source": [
    "print(data.columns)\n"
   ]
  },
  {
   "cell_type": "markdown",
   "id": "f9468962-5262-4cb2-92a6-e578ba704928",
   "metadata": {},
   "source": [
    "# Descriptive Statistics"
   ]
  },
  {
   "cell_type": "markdown",
   "id": "4bd67773-431a-4012-862d-66c426151544",
   "metadata": {},
   "source": [
    "Calculate headline length:"
   ]
  },
  {
   "cell_type": "code",
   "execution_count": 5,
   "id": "771a591d-e1da-4dde-a4a7-240614489cab",
   "metadata": {},
   "outputs": [
    {
     "name": "stdout",
     "output_type": "stream",
     "text": [
      "count    1.407328e+06\n",
      "mean     7.312051e+01\n",
      "std      4.073531e+01\n",
      "min      3.000000e+00\n",
      "25%      4.700000e+01\n",
      "50%      6.400000e+01\n",
      "75%      8.700000e+01\n",
      "max      5.120000e+02\n",
      "Name: headline_length, dtype: float64\n"
     ]
    }
   ],
   "source": [
    "data['headline_length'] = data['headline'].apply(len)\n",
    "print(data['headline_length'].describe())\n"
   ]
  },
  {
   "cell_type": "markdown",
   "id": "327499ec-4a94-4825-854d-e932a010fa32",
   "metadata": {},
   "source": [
    "Count articles per publisher:\n"
   ]
  },
  {
   "cell_type": "code",
   "execution_count": 6,
   "id": "a5c8d723-a3f7-4229-864a-6c89233af94e",
   "metadata": {},
   "outputs": [
    {
     "name": "stdout",
     "output_type": "stream",
     "text": [
      "publisher\n",
      "Paul Quintaro        228373\n",
      "Lisa Levin           186979\n",
      "Benzinga Newsdesk    150484\n",
      "Charles Gross         96732\n",
      "Monica Gerson         82380\n",
      "                      ...  \n",
      "MoneyGeek                 1\n",
      "muathe                    1\n",
      "Robert Morris             1\n",
      "LeftCoastHedgie           1\n",
      "Jeremie Capron            1\n",
      "Name: count, Length: 1034, dtype: int64\n"
     ]
    }
   ],
   "source": [
    "print(data['publisher'].value_counts())\n"
   ]
  },
  {
   "cell_type": "markdown",
   "id": "e476c2bc-cf6b-4865-afee-ea0dcaa5d935",
   "metadata": {},
   "source": [
    "Analyze publication dates:"
   ]
  },
  {
   "cell_type": "code",
   "execution_count": 11,
   "id": "5d4d1b91-8fd4-4440-b9e5-71399df8963f",
   "metadata": {},
   "outputs": [],
   "source": [
    "data['date'] = pd.to_datetime(data['date'], errors='coerce', utc=True)\n"
   ]
  },
  {
   "cell_type": "code",
   "execution_count": 12,
   "id": "31cff58d-7b54-4fa6-8fe2-ccba727cf8fe",
   "metadata": {},
   "outputs": [
    {
     "name": "stdout",
     "output_type": "stream",
     "text": [
      "<DatetimeArray>\n",
      "['2020-06-05 14:30:54+00:00', '2020-06-03 14:45:20+00:00',\n",
      " '2020-05-26 08:30:07+00:00', '2020-05-22 16:45:06+00:00',\n",
      " '2020-05-22 15:38:59+00:00', '2020-05-22 15:23:25+00:00',\n",
      " '2020-05-22 13:36:20+00:00', '2020-05-22 13:07:04+00:00',\n",
      " '2020-05-22 12:37:59+00:00', '2020-05-22 12:06:17+00:00',\n",
      " ...\n",
      " '2020-06-04 20:08:51+00:00', '2020-06-04 20:07:40+00:00',\n",
      " '2018-06-15 13:01:12+00:00', '2018-06-13 20:52:35+00:00',\n",
      " '2018-05-17 10:01:41+00:00', '2018-03-15 10:01:22+00:00',\n",
      " '2017-12-06 13:12:01+00:00', '2017-12-06 11:04:31+00:00',\n",
      " '2017-11-15 10:04:52+00:00', '2017-11-14 17:25:57+00:00']\n",
      "Length: 39956, dtype: datetime64[ns, UTC]\n"
     ]
    }
   ],
   "source": [
    "print(data['date'].unique())\n"
   ]
  },
  {
   "cell_type": "code",
   "execution_count": 13,
   "id": "bcdc9f0d-58ec-4667-a2e5-68c6fc61cb5f",
   "metadata": {},
   "outputs": [
    {
     "name": "stdout",
     "output_type": "stream",
     "text": [
      "Empty DataFrame\n",
      "Columns: [Unnamed: 0, headline, url, publisher, date, stock, headline_length]\n",
      "Index: []\n"
     ]
    }
   ],
   "source": [
    "print(data[data['date'].isna()])  # Find rows that failed to parse\n"
   ]
  },
  {
   "cell_type": "code",
   "execution_count": 14,
   "id": "fb1b61fa-e7e2-43c2-be7f-104e3102f3e7",
   "metadata": {},
   "outputs": [
    {
     "name": "stdout",
     "output_type": "stream",
     "text": [
      "date\n",
      "2009-02-14      1\n",
      "2009-04-27      2\n",
      "2009-04-29      1\n",
      "2009-05-22      1\n",
      "2009-05-27      6\n",
      "             ... \n",
      "2020-06-07     25\n",
      "2020-06-08    765\n",
      "2020-06-09    803\n",
      "2020-06-10    807\n",
      "2020-06-11    544\n",
      "Name: count, Length: 3955, dtype: int64\n"
     ]
    }
   ],
   "source": [
    "daily_counts = data['date'].dt.date.value_counts().sort_index()\n",
    "print(daily_counts)\n"
   ]
  },
  {
   "cell_type": "markdown",
   "id": "bb4247b9-2903-4d6e-b673-d011a9ab86fb",
   "metadata": {},
   "source": [
    "# Text Analysis"
   ]
  },
  {
   "cell_type": "markdown",
   "id": "d6030f43-93fa-47b8-8c65-a84fd2da2eb0",
   "metadata": {},
   "source": [
    "Sentiment analysis using VADER or similar tools:"
   ]
  },
  {
   "cell_type": "code",
   "execution_count": 16,
   "id": "080ba416-4a5c-4aee-8d31-0027c89b8fa3",
   "metadata": {},
   "outputs": [
    {
     "name": "stderr",
     "output_type": "stream",
     "text": [
      "[nltk_data] Downloading package vader_lexicon to\n",
      "[nltk_data]     C:\\Users\\niyat\\AppData\\Roaming\\nltk_data...\n"
     ]
    },
    {
     "data": {
      "text/plain": [
       "True"
      ]
     },
     "execution_count": 16,
     "metadata": {},
     "output_type": "execute_result"
    }
   ],
   "source": [
    "import nltk\n",
    "nltk.download('vader_lexicon')\n"
   ]
  },
  {
   "cell_type": "code",
   "execution_count": null,
   "id": "dabfb54a-e858-4741-814c-3d96c19542e9",
   "metadata": {},
   "outputs": [],
   "source": [
    "from nltk.sentiment import SentimentIntensityAnalyzer\n",
    "\n",
    "sia = SentimentIntensityAnalyzer()\n",
    "data['sentiment'] = data['headline'].apply(lambda x: sia.polarity_scores(x)['compound'])\n",
    "print(data[['headline', 'sentiment']].head()) \n",
    "\n"
   ]
  },
  {
   "cell_type": "markdown",
   "id": "f2dd38a4-6eed-4dbc-9c36-706699fcc137",
   "metadata": {},
   "source": [
    "# Time Series Analysis\n",
    "\n"
   ]
  },
  {
   "cell_type": "markdown",
   "id": "1f9d8eca-8114-4df7-8c37-3fb9b6be19c0",
   "metadata": {},
   "source": [
    "Identify spikes in publication frequency"
   ]
  },
  {
   "cell_type": "code",
   "execution_count": 22,
   "id": "191404a6-0534-4f8b-916e-43bfa81b1709",
   "metadata": {},
   "outputs": [
    {
     "data": {
      "text/plain": [
       "<Axes: xlabel='date'>"
      ]
     },
     "execution_count": 22,
     "metadata": {},
     "output_type": "execute_result"
    },
    {
     "data": {
      "image/png": "[encoded data removed]",
      "text/plain": [
       "<Figure size 640x480 with 1 Axes>"
      ]
     },
     "metadata": {},
     "output_type": "display_data"
    }
   ],
   "source": [
    "publication_trends = data['date'].dt.date.value_counts().sort_index()\n",
    "publication_trends.plot()\n"
   ]
  },
  {
   "cell_type": "markdown",
   "id": "b1865bea-a836-47d0-861b-bdd8b02ce34d",
   "metadata": {},
   "source": [
    "Analyze publishing times"
   ]
  },
  {
   "cell_type": "code",
   "execution_count": 23,
   "id": "17d4945d-7b5a-43dc-99a3-7900da80d942",
   "metadata": {},
   "outputs": [
    {
     "name": "stdout",
     "output_type": "stream",
     "text": [
      "hour\n",
      "0     1351472\n",
      "14       7669\n",
      "13       5965\n",
      "16       5732\n",
      "15       5701\n",
      "12       5527\n",
      "11       5033\n",
      "20       3939\n",
      "21       2800\n",
      "17       2710\n",
      "10       2476\n",
      "18       2075\n",
      "9        1829\n",
      "19       1612\n",
      "8        1469\n",
      "22        704\n",
      "23        227\n",
      "7          93\n",
      "1          82\n",
      "4          67\n",
      "6          57\n",
      "2          48\n",
      "3          27\n",
      "5          14\n",
      "Name: count, dtype: int64\n"
     ]
    }
   ],
   "source": [
    "data['hour'] = data['date'].dt.hour\n",
    "print(data['hour'].value_counts())\n"
   ]
  },
  {
   "cell_type": "markdown",
   "id": "1fbd109a-8155-426c-8585-a27790b8b6e9",
   "metadata": {},
   "source": [
    "# Publisher Analysis"
   ]
  },
  {
   "cell_type": "markdown",
   "id": "3034fccb-a9c1-4bc5-a34d-097e3330a705",
   "metadata": {},
   "source": [
    "Analyze the volume and focus of reporting by publisher"
   ]
  },
  {
   "cell_type": "code",
   "execution_count": 24,
   "id": "dc16af92-1447-4cd9-aa9f-23e3ea2509ed",
   "metadata": {},
   "outputs": [
    {
     "name": "stdout",
     "output_type": "stream",
     "text": [
      "publisher\n",
      "Paul Quintaro             228373\n",
      "Lisa Levin                186979\n",
      "Benzinga Newsdesk         150484\n",
      "Charles Gross              96732\n",
      "Monica Gerson              82380\n",
      "                           ...  \n",
      "MyConstant Chris Roper         1\n",
      "milesyoung                     1\n",
      "Nat                            1\n",
      "mjintertrader                  1\n",
      "Adam Weiner                    1\n",
      "Name: headline, Length: 1034, dtype: int64\n"
     ]
    }
   ],
   "source": [
    "publisher_analysis = data.groupby('publisher')['headline'].count().sort_values(ascending=False)\n",
    "print(publisher_analysis)\n"
   ]
  },
  {
   "cell_type": "code",
   "execution_count": null,
   "id": "e772f2f5-c93a-46cb-87d7-f77c93b0ab8a",
   "metadata": {},
   "outputs": [],
   "source": []
  }
 ],
 "metadata": {
  "kernelspec": {
   "display_name": "Python 3 (ipykernel)",
   "language": "python",
   "name": "python3"
  },
  "language_info": {
   "codemirror_mode": {
    "name": "ipython",
    "version": 3
   },
   "file_extension": ".py",
   "mimetype": "text/x-python",
   "name": "python",
   "nbconvert_exporter": "python",
   "pygments_lexer": "ipython3",
   "version": "3.12.4"
  }
 },
 "nbformat": 4,
 "nbformat_minor": 5
}
